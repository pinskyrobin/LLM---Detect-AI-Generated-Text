{
 "cells": [
  {
   "cell_type": "code",
   "execution_count": null,
   "id": "73b1ac81",
   "metadata": {
    "execution": {
     "iopub.execute_input": "2024-01-16T14:21:07.477136Z",
     "iopub.status.busy": "2024-01-16T14:21:07.476364Z",
     "iopub.status.idle": "2024-01-16T14:21:07.486438Z",
     "shell.execute_reply": "2024-01-16T14:21:07.485686Z"
    },
    "papermill": {
     "duration": 0.018959,
     "end_time": "2024-01-16T14:21:07.488281",
     "exception": false,
     "start_time": "2024-01-16T14:21:07.469322",
     "status": "completed"
    },
    "tags": []
   },
   "outputs": [],
   "source": [
    "import warnings\n",
    "warnings.filterwarnings('ignore')"
   ]
  },
  {
   "cell_type": "code",
   "execution_count": null,
   "id": "d0dacf5f",
   "metadata": {
    "execution": {
     "iopub.execute_input": "2024-01-16T14:21:07.499113Z",
     "iopub.status.busy": "2024-01-16T14:21:07.498829Z",
     "iopub.status.idle": "2024-01-16T14:21:15.009556Z",
     "shell.execute_reply": "2024-01-16T14:21:15.008770Z"
    },
    "papermill": {
     "duration": 7.518648,
     "end_time": "2024-01-16T14:21:15.011914",
     "exception": false,
     "start_time": "2024-01-16T14:21:07.493266",
     "status": "completed"
    },
    "tags": []
   },
   "outputs": [],
   "source": [
    "from sklearn.feature_extraction.text import TfidfVectorizer\n",
    "from sklearn.model_selection import StratifiedKFold, train_test_split\n",
    "from sklearn.linear_model import SGDClassifier\n",
    "from sklearn.naive_bayes import MultinomialNB\n",
    "from sklearn.ensemble import VotingClassifier, RandomForestClassifier\n",
    "from sklearn.metrics import roc_auc_score\n",
    "from catboost import CatBoostClassifier\n",
    "from lightgbm import LGBMClassifier\n",
    "\n",
    "\n",
    "from transformers import PreTrainedTokenizerFast\n",
    "from tokenizers import (\n",
    "    decoders,\n",
    "    models,\n",
    "    normalizers,\n",
    "    pre_tokenizers,\n",
    "    processors,\n",
    "    trainers,\n",
    "    Tokenizer,\n",
    ")\n",
    "\n",
    "\n",
    "from datasets import Dataset\n",
    "from tqdm.auto import tqdm\n",
    "import pandas as pd\n",
    "import numpy as np\n",
    "import sys\n",
    "import gc"
   ]
  },
  {
   "cell_type": "code",
   "execution_count": null,
   "id": "117fe814",
   "metadata": {
    "execution": {
     "iopub.execute_input": "2024-01-16T14:21:15.023422Z",
     "iopub.status.busy": "2024-01-16T14:21:15.022694Z",
     "iopub.status.idle": "2024-01-16T14:21:17.017122Z",
     "shell.execute_reply": "2024-01-16T14:21:17.016243Z"
    },
    "papermill": {
     "duration": 2.002675,
     "end_time": "2024-01-16T14:21:17.019459",
     "exception": false,
     "start_time": "2024-01-16T14:21:15.016784",
     "status": "completed"
    },
    "tags": []
   },
   "outputs": [],
   "source": [
    "# Different from online submission that use absolute path, we here use relative path for convenience\n",
    "\n",
    "test = pd.read_csv('llm-detect-ai-generated-text/test_essays.csv')\n",
    "sub = pd.read_csv('llm-detect-ai-generated-text/sample_submission.csv')\n",
    "train = pd.read_csv(\"daigt-v2-train-dataset/train_v2_drcat_02.csv\", sep=',')"
   ]
  },
  {
   "cell_type": "code",
   "execution_count": null,
   "id": "c7501530",
   "metadata": {
    "execution": {
     "iopub.execute_input": "2024-01-16T14:21:17.030778Z",
     "iopub.status.busy": "2024-01-16T14:21:17.030447Z",
     "iopub.status.idle": "2024-01-16T14:21:17.116233Z",
     "shell.execute_reply": "2024-01-16T14:21:17.115221Z"
    },
    "papermill": {
     "duration": 0.093953,
     "end_time": "2024-01-16T14:21:17.118589",
     "exception": false,
     "start_time": "2024-01-16T14:21:17.024636",
     "status": "completed"
    },
    "tags": []
   },
   "outputs": [],
   "source": [
    "train = train.drop_duplicates(subset=['text'])\n",
    "train.reset_index(drop=True, inplace=True)\n",
    "train.head()"
   ]
  },
  {
   "cell_type": "code",
   "execution_count": null,
   "id": "3276df2c",
   "metadata": {
    "execution": {
     "iopub.execute_input": "2024-01-16T14:21:17.130035Z",
     "iopub.status.busy": "2024-01-16T14:21:17.129727Z",
     "iopub.status.idle": "2024-01-16T14:21:17.150814Z",
     "shell.execute_reply": "2024-01-16T14:21:17.150127Z"
    },
    "papermill": {
     "duration": 0.028869,
     "end_time": "2024-01-16T14:21:17.152842",
     "exception": false,
     "start_time": "2024-01-16T14:21:17.123973",
     "status": "completed"
    },
    "tags": []
   },
   "outputs": [],
   "source": [
    "excluded_prompt_name_list = ['Distance learning','Grades for extracurricular activities','Summer projects']\n",
    "train = train[~(train['prompt_name'].isin(excluded_prompt_name_list))]\n",
    "train = train.drop_duplicates(subset=['text'])\n",
    "train.reset_index(drop=True, inplace=True)"
   ]
  },
  {
   "cell_type": "code",
   "execution_count": null,
   "id": "df511405",
   "metadata": {
    "execution": {
     "iopub.execute_input": "2024-01-16T14:21:17.163770Z",
     "iopub.status.busy": "2024-01-16T14:21:17.163510Z",
     "iopub.status.idle": "2024-01-16T14:21:17.168936Z",
     "shell.execute_reply": "2024-01-16T14:21:17.168091Z"
    },
    "papermill": {
     "duration": 0.012803,
     "end_time": "2024-01-16T14:21:17.170697",
     "exception": false,
     "start_time": "2024-01-16T14:21:17.157894",
     "status": "completed"
    },
    "tags": []
   },
   "outputs": [],
   "source": [
    "test.text.values"
   ]
  },
  {
   "cell_type": "code",
   "execution_count": null,
   "id": "8bd3a141",
   "metadata": {
    "execution": {
     "iopub.execute_input": "2024-01-16T14:21:17.181710Z",
     "iopub.status.busy": "2024-01-16T14:21:17.181458Z",
     "iopub.status.idle": "2024-01-16T14:21:17.185351Z",
     "shell.execute_reply": "2024-01-16T14:21:17.184502Z"
    },
    "papermill": {
     "duration": 0.01166,
     "end_time": "2024-01-16T14:21:17.187335",
     "exception": false,
     "start_time": "2024-01-16T14:21:17.175675",
     "status": "completed"
    },
    "tags": []
   },
   "outputs": [],
   "source": [
    "LOWERCASE = False\n",
    "VOCAB_SIZE = 305220"
   ]
  },
  {
   "cell_type": "code",
   "execution_count": null,
   "id": "39c7839b",
   "metadata": {
    "execution": {
     "iopub.execute_input": "2024-01-16T14:21:17.198594Z",
     "iopub.status.busy": "2024-01-16T14:21:17.198327Z",
     "iopub.status.idle": "2024-01-16T14:22:49.090962Z",
     "shell.execute_reply": "2024-01-16T14:22:49.090025Z"
    },
    "papermill": {
     "duration": 91.900507,
     "end_time": "2024-01-16T14:22:49.092917",
     "exception": false,
     "start_time": "2024-01-16T14:21:17.192410",
     "status": "completed"
    },
    "tags": []
   },
   "outputs": [],
   "source": [
    "# Creating Byte-Pair Encoding tokenizer\n",
    "raw_tokenizer = Tokenizer(models.BPE(unk_token=\"[UNK]\"))\n",
    "\n",
    "\n",
    "# Adding normalization and pre_tokenizer\n",
    "raw_tokenizer.normalizer = normalizers.Sequence(\n",
    "    [normalizers.NFC()] + [normalizers.Lowercase()] \n",
    "    if LOWERCASE else []\n",
    ")\n",
    "\n",
    "\n",
    "raw_tokenizer.pre_tokenizer = pre_tokenizers.ByteLevel()\n",
    "\n",
    "# Adding special tokens and creating trainer instance\n",
    "special_tokens = [\"[UNK]\", \"[PAD]\", \"[CLS]\", \"[SEP]\", \"[MASK]\"]\n",
    "trainer = trainers.BpeTrainer(\n",
    "    vocab_size=VOCAB_SIZE, \n",
    "    special_tokens=special_tokens\n",
    ")\n",
    "\n",
    "\n",
    "# Creating huggingface dataset object\n",
    "dataset = Dataset.from_pandas(test[['text']])\n",
    "\n",
    "def train_corp_iter():\n",
    "    \"\"\"\n",
    "    A generator function for iterating over a dataset in chunks.\n",
    "    \"\"\"    \n",
    "    for i in range(0, len(dataset), 1000):\n",
    "        yield dataset[i : i + 1000][\"text\"]\n",
    "\n",
    "# Training from iterator REMEMBER it's training on test set...\n",
    "raw_tokenizer.train_from_iterator(train_corp_iter(), trainer=trainer)\n",
    "\n",
    "tokenizer = PreTrainedTokenizerFast(\n",
    "    tokenizer_object=raw_tokenizer,\n",
    "    unk_token  = \"[UNK]\",\n",
    "    pad_token  = \"[PAD]\",\n",
    "    cls_token  = \"[CLS]\",\n",
    "    sep_token  = \"[SEP]\",\n",
    "    mask_token = \"[MASK]\",\n",
    ")\n",
    "\n",
    "\n",
    "\n",
    "# Tokenize test set with new tokenizer\n",
    "tokenized_texts_test = []\n",
    "for text in tqdm(test['text'].tolist()):\n",
    "    tokenized_texts_test.append(tokenizer.tokenize(text))\n",
    "\n",
    "\n",
    "# Tokenize train set\n",
    "tokenized_texts_train = []\n",
    "for text in tqdm(train['text'].tolist()):\n",
    "    tokenized_texts_train.append(tokenizer.tokenize(text))"
   ]
  },
  {
   "cell_type": "code",
   "execution_count": null,
   "id": "943fb7a2",
   "metadata": {
    "execution": {
     "iopub.execute_input": "2024-01-16T14:22:49.105329Z",
     "iopub.status.busy": "2024-01-16T14:22:49.105039Z",
     "iopub.status.idle": "2024-01-16T14:22:49.109736Z",
     "shell.execute_reply": "2024-01-16T14:22:49.108887Z"
    },
    "papermill": {
     "duration": 0.013357,
     "end_time": "2024-01-16T14:22:49.111965",
     "exception": false,
     "start_time": "2024-01-16T14:22:49.098608",
     "status": "completed"
    },
    "tags": []
   },
   "outputs": [],
   "source": [
    "print(tokenized_texts_test[1])\n",
    "print()\n",
    "print(tokenized_texts_test[2])"
   ]
  },
  {
   "cell_type": "code",
   "execution_count": null,
   "id": "2dd6a2ac",
   "metadata": {
    "execution": {
     "iopub.execute_input": "2024-01-16T14:22:49.124279Z",
     "iopub.status.busy": "2024-01-16T14:22:49.124001Z",
     "iopub.status.idle": "2024-01-16T14:25:52.731854Z",
     "shell.execute_reply": "2024-01-16T14:25:52.730978Z"
    },
    "papermill": {
     "duration": 183.622391,
     "end_time": "2024-01-16T14:25:52.739817",
     "exception": false,
     "start_time": "2024-01-16T14:22:49.117426",
     "status": "completed"
    },
    "tags": []
   },
   "outputs": [],
   "source": [
    "def dummy(text):\n",
    "    \"\"\"\n",
    "    A dummy function to use as tokenizer for TfidfVectorizer. \n",
    "    It returns the text as it is since we already tokenized it.\n",
    "    \"\"\"\n",
    "    return text\n",
    "\n",
    "\n",
    "\n",
    "# Fitting TfidfVectoizer on test set\n",
    "vectorizer = TfidfVectorizer(\n",
    "    ngram_range   = (3, 5), \n",
    "    lowercase     = False, \n",
    "    sublinear_tf  = True, \n",
    "    analyzer      = 'word',\n",
    "    tokenizer     = dummy,\n",
    "    preprocessor  = dummy,\n",
    "    token_pattern = None, \n",
    "    strip_accents ='unicode')\n",
    "\n",
    "\n",
    "vectorizer.fit(tokenized_texts_test)\n",
    "\n",
    "# Getting vocab\n",
    "vocab = vectorizer.vocabulary_\n",
    "print(vocab)\n",
    "\n",
    "\n",
    "# Here we fit our vectorizer on train set but this time we use vocabulary from test fit.\n",
    "vectorizer = TfidfVectorizer(\n",
    "    ngram_range    = (3, 5), \n",
    "    lowercase      = False, \n",
    "    sublinear_tf   = True, \n",
    "    vocabulary     = vocab,\n",
    "    analyzer       = 'word',\n",
    "    tokenizer      = dummy,\n",
    "    preprocessor   = dummy,\n",
    "    token_pattern  = None, \n",
    "    strip_accents  ='unicode')\n",
    "\n",
    "tf_train = vectorizer.fit_transform(tokenized_texts_train)\n",
    "tf_test = vectorizer.transform(tokenized_texts_test)\n",
    "del vectorizer\n",
    "gc.collect()"
   ]
  },
  {
   "cell_type": "code",
   "execution_count": null,
   "id": "303d8dac",
   "metadata": {
    "execution": {
     "iopub.execute_input": "2024-01-16T14:25:52.752720Z",
     "iopub.status.busy": "2024-01-16T14:25:52.752432Z",
     "iopub.status.idle": "2024-01-16T14:25:52.756823Z",
     "shell.execute_reply": "2024-01-16T14:25:52.755966Z"
    },
    "papermill": {
     "duration": 0.012892,
     "end_time": "2024-01-16T14:25:52.758667",
     "exception": false,
     "start_time": "2024-01-16T14:25:52.745775",
     "status": "completed"
    },
    "tags": []
   },
   "outputs": [],
   "source": [
    "y_train = train['label'].values"
   ]
  },
  {
   "cell_type": "code",
   "execution_count": null,
   "id": "aec4753c",
   "metadata": {
    "execution": {
     "iopub.execute_input": "2024-01-16T14:25:52.771297Z",
     "iopub.status.busy": "2024-01-16T14:25:52.771001Z",
     "iopub.status.idle": "2024-01-16T14:25:52.776528Z",
     "shell.execute_reply": "2024-01-16T14:25:52.775712Z"
    },
    "papermill": {
     "duration": 0.013966,
     "end_time": "2024-01-16T14:25:52.778367",
     "exception": false,
     "start_time": "2024-01-16T14:25:52.764401",
     "status": "completed"
    },
    "tags": []
   },
   "outputs": [],
   "source": [
    "tf_train"
   ]
  },
  {
   "cell_type": "code",
   "execution_count": null,
   "id": "bf6eb56e",
   "metadata": {
    "execution": {
     "iopub.execute_input": "2024-01-16T14:25:52.791353Z",
     "iopub.status.busy": "2024-01-16T14:25:52.791101Z",
     "iopub.status.idle": "2024-01-16T14:25:52.796466Z",
     "shell.execute_reply": "2024-01-16T14:25:52.795625Z"
    },
    "papermill": {
     "duration": 0.013824,
     "end_time": "2024-01-16T14:25:52.798184",
     "exception": false,
     "start_time": "2024-01-16T14:25:52.784360",
     "status": "completed"
    },
    "tags": []
   },
   "outputs": [],
   "source": [
    "tf_train.shape"
   ]
  },
  {
   "cell_type": "code",
   "execution_count": null,
   "id": "ca200590",
   "metadata": {
    "execution": {
     "iopub.execute_input": "2024-01-16T14:25:52.811957Z",
     "iopub.status.busy": "2024-01-16T14:25:52.811260Z",
     "iopub.status.idle": "2024-01-16T14:25:52.816805Z",
     "shell.execute_reply": "2024-01-16T14:25:52.815985Z"
    },
    "papermill": {
     "duration": 0.014548,
     "end_time": "2024-01-16T14:25:52.818649",
     "exception": false,
     "start_time": "2024-01-16T14:25:52.804101",
     "status": "completed"
    },
    "tags": []
   },
   "outputs": [],
   "source": [
    "tf_test.shape"
   ]
  },
  {
   "cell_type": "code",
   "outputs": [],
   "source": [
    "def get_model():\n",
    "    from catboost import CatBoostClassifier\n",
    "    from sklearn.linear_model import LogisticRegression\n",
    "\n",
    "    clf = MultinomialNB(alpha=0.0225)\n",
    "\n",
    "    sgd_model = SGDClassifier(\n",
    "        max_iter=9000, \n",
    "        tol=1e-4, \n",
    "        loss=\"modified_huber\", \n",
    "        random_state=6743\n",
    "    )\n",
    "\n",
    "    p6 = {\n",
    "        'n_iter': 3000, \n",
    "        'verbose': -1, \n",
    "        'objective': 'cross_entropy', \n",
    "        'metric': 'auc',\n",
    "        'learning_rate': 0.00581909898961407, \n",
    "        'colsample_bytree': 0.78, \n",
    "        'colsample_bynode': 0.8\n",
    "    }\n",
    "    p6[\"random_state\"] = 6743\n",
    "    lgb = LGBMClassifier(**p6)\n",
    "\n",
    "    # CatBoost classifier with specified iterations, learning rate, and subsample\n",
    "    cat = CatBoostClassifier(\n",
    "        iterations=3000, \n",
    "        verbose=0, \n",
    "        random_seed=6543,\n",
    "        learning_rate=0.005599066836106983, \n",
    "        subsample=0.35,\n",
    "        allow_const_label=True, \n",
    "        loss_function='CrossEntropy'\n",
    "    )\n",
    "\n",
    "    # Weights for the Voting Classifier, specifying the importance of each base classifier\n",
    "    weights = [0.1, 0.31, 0.28, 0.67]\n",
    "\n",
    "    # Create a Voting Classifier with the specified base classifiers and weights\n",
    "    ensemble = VotingClassifier(\n",
    "        estimators=[\n",
    "            ('mnb', clf),\n",
    "            ('sgd', sgd_model),\n",
    "            ('lgb', lgb),\n",
    "            ('cat', cat)\n",
    "        ],\n",
    "        weights=weights, \n",
    "        voting='soft', \n",
    "        n_jobs=-1\n",
    "    )\n",
    "    return ensemble\n",
    "\n",
    "# Get the ensemble model\n",
    "model = get_model()\n",
    "print(model)"
   ],
   "metadata": {
    "collapsed": false
   },
   "id": "d984bb27cc5f593f",
   "execution_count": null
  },
  {
   "cell_type": "code",
   "outputs": [],
   "source": [
    "# Check if the number of test samples is less than or equal to 5\n",
    "if len(test.text.values) <= 5:\n",
    "    # If true, generate a sample submission file\n",
    "    sub.to_csv('submission.csv', index=False)\n",
    "else:\n",
    "    # If false, fit the ensemble model on the training data\n",
    "    model.fit(tf_train, y_train)\n",
    "\n",
    "    # Predict probabilities for the test data\n",
    "    final_preds = model.predict_proba(tf_test)[:, 1]\n",
    "\n",
    "    # Add the generated probabilities to the submission DataFrame\n",
    "    sub['generated'] = final_preds\n",
    "    \n",
    "    print(sub['generated'].max(), sub['generated'].min(),sub['generated'].mean())\n",
    "    \n",
    "    # Save the submission file without index column\n",
    "    sub.to_csv('submission.csv', index=False)"
   ],
   "metadata": {
    "collapsed": false
   },
   "id": "27169071f2c19c46",
   "execution_count": null
  }
 ],
 "metadata": {
  "kaggle": {
   "accelerator": "gpu",
   "dataSources": [
    {
     "databundleVersionId": 6888007,
     "sourceId": 61542,
     "sourceType": "competition"
    },
    {
     "datasetId": 4005256,
     "sourceId": 6977472,
     "sourceType": "datasetVersion"
    }
   ],
   "dockerImageVersionId": 30558,
   "isGpuEnabled": true,
   "isInternetEnabled": false,
   "language": "python",
   "sourceType": "notebook"
  },
  "kernelspec": {
   "display_name": "Python 3",
   "language": "python",
   "name": "python3"
  },
  "language_info": {
   "codemirror_mode": {
    "name": "ipython",
    "version": 3
   },
   "file_extension": ".py",
   "mimetype": "text/x-python",
   "name": "python",
   "nbconvert_exporter": "python",
   "pygments_lexer": "ipython3",
   "version": "3.10.12"
  },
  "papermill": {
   "default_parameters": {},
   "duration": 291.456938,
   "end_time": "2024-01-16T14:25:55.572348",
   "environment_variables": {},
   "exception": null,
   "input_path": "__notebook__.ipynb",
   "output_path": "__notebook__.ipynb",
   "parameters": {},
   "start_time": "2024-01-16T14:21:04.115410",
   "version": "2.4.0"
  },
  "widgets": {
   "application/vnd.jupyter.widget-state+json": {
    "state": {
     "174da9d0028d4379971b2fa8f88cfa6d": {
      "model_module": "@jupyter-widgets/base",
      "model_module_version": "1.2.0",
      "model_name": "LayoutModel",
      "state": {
       "_model_module": "@jupyter-widgets/base",
       "_model_module_version": "1.2.0",
       "_model_name": "LayoutModel",
       "_view_count": null,
       "_view_module": "@jupyter-widgets/base",
       "_view_module_version": "1.2.0",
       "_view_name": "LayoutView",
       "align_content": null,
       "align_items": null,
       "align_self": null,
       "border": null,
       "bottom": null,
       "display": null,
       "flex": null,
       "flex_flow": null,
       "grid_area": null,
       "grid_auto_columns": null,
       "grid_auto_flow": null,
       "grid_auto_rows": null,
       "grid_column": null,
       "grid_gap": null,
       "grid_row": null,
       "grid_template_areas": null,
       "grid_template_columns": null,
       "grid_template_rows": null,
       "height": null,
       "justify_content": null,
       "justify_items": null,
       "left": null,
       "margin": null,
       "max_height": null,
       "max_width": null,
       "min_height": null,
       "min_width": null,
       "object_fit": null,
       "object_position": null,
       "order": null,
       "overflow": null,
       "overflow_x": null,
       "overflow_y": null,
       "padding": null,
       "right": null,
       "top": null,
       "visibility": null,
       "width": null
      }
     },
     "36461654176a40b2a87a0505d8d10847": {
      "model_module": "@jupyter-widgets/base",
      "model_module_version": "1.2.0",
      "model_name": "LayoutModel",
      "state": {
       "_model_module": "@jupyter-widgets/base",
       "_model_module_version": "1.2.0",
       "_model_name": "LayoutModel",
       "_view_count": null,
       "_view_module": "@jupyter-widgets/base",
       "_view_module_version": "1.2.0",
       "_view_name": "LayoutView",
       "align_content": null,
       "align_items": null,
       "align_self": null,
       "border": null,
       "bottom": null,
       "display": null,
       "flex": null,
       "flex_flow": null,
       "grid_area": null,
       "grid_auto_columns": null,
       "grid_auto_flow": null,
       "grid_auto_rows": null,
       "grid_column": null,
       "grid_gap": null,
       "grid_row": null,
       "grid_template_areas": null,
       "grid_template_columns": null,
       "grid_template_rows": null,
       "height": null,
       "justify_content": null,
       "justify_items": null,
       "left": null,
       "margin": null,
       "max_height": null,
       "max_width": null,
       "min_height": null,
       "min_width": null,
       "object_fit": null,
       "object_position": null,
       "order": null,
       "overflow": null,
       "overflow_x": null,
       "overflow_y": null,
       "padding": null,
       "right": null,
       "top": null,
       "visibility": null,
       "width": null
      }
     },
     "37cf977d063841a4bf0223f4d64486fb": {
      "model_module": "@jupyter-widgets/controls",
      "model_module_version": "1.5.0",
      "model_name": "HBoxModel",
      "state": {
       "_dom_classes": [],
       "_model_module": "@jupyter-widgets/controls",
       "_model_module_version": "1.5.0",
       "_model_name": "HBoxModel",
       "_view_count": null,
       "_view_module": "@jupyter-widgets/controls",
       "_view_module_version": "1.5.0",
       "_view_name": "HBoxView",
       "box_style": "",
       "children": [
        "IPY_MODEL_b70b322e3620466facca5cb9285b2adc",
        "IPY_MODEL_70d96ddfa2d24adfa9db0faf2940438a",
        "IPY_MODEL_441b9b5e5eec46948fc8d40b4db4755c"
       ],
       "layout": "IPY_MODEL_8c25baa40537495f842595a4f9f12370"
      }
     },
     "40ec94ad6a3742ddb339717bcc373ff4": {
      "model_module": "@jupyter-widgets/controls",
      "model_module_version": "1.5.0",
      "model_name": "DescriptionStyleModel",
      "state": {
       "_model_module": "@jupyter-widgets/controls",
       "_model_module_version": "1.5.0",
       "_model_name": "DescriptionStyleModel",
       "_view_count": null,
       "_view_module": "@jupyter-widgets/base",
       "_view_module_version": "1.2.0",
       "_view_name": "StyleView",
       "description_width": ""
      }
     },
     "441b9b5e5eec46948fc8d40b4db4755c": {
      "model_module": "@jupyter-widgets/controls",
      "model_module_version": "1.5.0",
      "model_name": "HTMLModel",
      "state": {
       "_dom_classes": [],
       "_model_module": "@jupyter-widgets/controls",
       "_model_module_version": "1.5.0",
       "_model_name": "HTMLModel",
       "_view_count": null,
       "_view_module": "@jupyter-widgets/controls",
       "_view_module_version": "1.5.0",
       "_view_name": "HTMLView",
       "description": "",
       "description_tooltip": null,
       "layout": "IPY_MODEL_36461654176a40b2a87a0505d8d10847",
       "placeholder": "​",
       "style": "IPY_MODEL_40ec94ad6a3742ddb339717bcc373ff4",
       "value": " 34497/34497 [01:31&lt;00:00, 387.35it/s]"
      }
     },
     "689a83bc34644b959107e80c2750ddfe": {
      "model_module": "@jupyter-widgets/controls",
      "model_module_version": "1.5.0",
      "model_name": "HBoxModel",
      "state": {
       "_dom_classes": [],
       "_model_module": "@jupyter-widgets/controls",
       "_model_module_version": "1.5.0",
       "_model_name": "HBoxModel",
       "_view_count": null,
       "_view_module": "@jupyter-widgets/controls",
       "_view_module_version": "1.5.0",
       "_view_name": "HBoxView",
       "box_style": "",
       "children": [
        "IPY_MODEL_f53b85da01d34223ab5a64c3fc82f6b5",
        "IPY_MODEL_6ce5cfd04b3b4b1b83044e895b3099ef",
        "IPY_MODEL_99118d05541c4b52a2c9e150d712d478"
       ],
       "layout": "IPY_MODEL_bcf48f3171bd48888fb22080f835f50e"
      }
     },
     "6ce5cfd04b3b4b1b83044e895b3099ef": {
      "model_module": "@jupyter-widgets/controls",
      "model_module_version": "1.5.0",
      "model_name": "FloatProgressModel",
      "state": {
       "_dom_classes": [],
       "_model_module": "@jupyter-widgets/controls",
       "_model_module_version": "1.5.0",
       "_model_name": "FloatProgressModel",
       "_view_count": null,
       "_view_module": "@jupyter-widgets/controls",
       "_view_module_version": "1.5.0",
       "_view_name": "ProgressView",
       "bar_style": "success",
       "description": "",
       "description_tooltip": null,
       "layout": "IPY_MODEL_da51f53c64324214bce7d2300336e90c",
       "max": 3.0,
       "min": 0.0,
       "orientation": "horizontal",
       "style": "IPY_MODEL_b9f205383424432fbaf2b1a4d1c43898",
       "value": 3.0
      }
     },
     "70d96ddfa2d24adfa9db0faf2940438a": {
      "model_module": "@jupyter-widgets/controls",
      "model_module_version": "1.5.0",
      "model_name": "FloatProgressModel",
      "state": {
       "_dom_classes": [],
       "_model_module": "@jupyter-widgets/controls",
       "_model_module_version": "1.5.0",
       "_model_name": "FloatProgressModel",
       "_view_count": null,
       "_view_module": "@jupyter-widgets/controls",
       "_view_module_version": "1.5.0",
       "_view_name": "ProgressView",
       "bar_style": "success",
       "description": "",
       "description_tooltip": null,
       "layout": "IPY_MODEL_76378fa4e04c41a2922a2c24598b3744",
       "max": 34497.0,
       "min": 0.0,
       "orientation": "horizontal",
       "style": "IPY_MODEL_d5bd5e58b2ae48f78d51317ec4801fad",
       "value": 34497.0
      }
     },
     "76378fa4e04c41a2922a2c24598b3744": {
      "model_module": "@jupyter-widgets/base",
      "model_module_version": "1.2.0",
      "model_name": "LayoutModel",
      "state": {
       "_model_module": "@jupyter-widgets/base",
       "_model_module_version": "1.2.0",
       "_model_name": "LayoutModel",
       "_view_count": null,
       "_view_module": "@jupyter-widgets/base",
       "_view_module_version": "1.2.0",
       "_view_name": "LayoutView",
       "align_content": null,
       "align_items": null,
       "align_self": null,
       "border": null,
       "bottom": null,
       "display": null,
       "flex": null,
       "flex_flow": null,
       "grid_area": null,
       "grid_auto_columns": null,
       "grid_auto_flow": null,
       "grid_auto_rows": null,
       "grid_column": null,
       "grid_gap": null,
       "grid_row": null,
       "grid_template_areas": null,
       "grid_template_columns": null,
       "grid_template_rows": null,
       "height": null,
       "justify_content": null,
       "justify_items": null,
       "left": null,
       "margin": null,
       "max_height": null,
       "max_width": null,
       "min_height": null,
       "min_width": null,
       "object_fit": null,
       "object_position": null,
       "order": null,
       "overflow": null,
       "overflow_x": null,
       "overflow_y": null,
       "padding": null,
       "right": null,
       "top": null,
       "visibility": null,
       "width": null
      }
     },
     "830360f1ccc04ec6825ebde8f7e0c8b6": {
      "model_module": "@jupyter-widgets/base",
      "model_module_version": "1.2.0",
      "model_name": "LayoutModel",
      "state": {
       "_model_module": "@jupyter-widgets/base",
       "_model_module_version": "1.2.0",
       "_model_name": "LayoutModel",
       "_view_count": null,
       "_view_module": "@jupyter-widgets/base",
       "_view_module_version": "1.2.0",
       "_view_name": "LayoutView",
       "align_content": null,
       "align_items": null,
       "align_self": null,
       "border": null,
       "bottom": null,
       "display": null,
       "flex": null,
       "flex_flow": null,
       "grid_area": null,
       "grid_auto_columns": null,
       "grid_auto_flow": null,
       "grid_auto_rows": null,
       "grid_column": null,
       "grid_gap": null,
       "grid_row": null,
       "grid_template_areas": null,
       "grid_template_columns": null,
       "grid_template_rows": null,
       "height": null,
       "justify_content": null,
       "justify_items": null,
       "left": null,
       "margin": null,
       "max_height": null,
       "max_width": null,
       "min_height": null,
       "min_width": null,
       "object_fit": null,
       "object_position": null,
       "order": null,
       "overflow": null,
       "overflow_x": null,
       "overflow_y": null,
       "padding": null,
       "right": null,
       "top": null,
       "visibility": null,
       "width": null
      }
     },
     "8c25baa40537495f842595a4f9f12370": {
      "model_module": "@jupyter-widgets/base",
      "model_module_version": "1.2.0",
      "model_name": "LayoutModel",
      "state": {
       "_model_module": "@jupyter-widgets/base",
       "_model_module_version": "1.2.0",
       "_model_name": "LayoutModel",
       "_view_count": null,
       "_view_module": "@jupyter-widgets/base",
       "_view_module_version": "1.2.0",
       "_view_name": "LayoutView",
       "align_content": null,
       "align_items": null,
       "align_self": null,
       "border": null,
       "bottom": null,
       "display": null,
       "flex": null,
       "flex_flow": null,
       "grid_area": null,
       "grid_auto_columns": null,
       "grid_auto_flow": null,
       "grid_auto_rows": null,
       "grid_column": null,
       "grid_gap": null,
       "grid_row": null,
       "grid_template_areas": null,
       "grid_template_columns": null,
       "grid_template_rows": null,
       "height": null,
       "justify_content": null,
       "justify_items": null,
       "left": null,
       "margin": null,
       "max_height": null,
       "max_width": null,
       "min_height": null,
       "min_width": null,
       "object_fit": null,
       "object_position": null,
       "order": null,
       "overflow": null,
       "overflow_x": null,
       "overflow_y": null,
       "padding": null,
       "right": null,
       "top": null,
       "visibility": null,
       "width": null
      }
     },
     "947ba27a56c04aa5a1b6bbe59cfefc62": {
      "model_module": "@jupyter-widgets/controls",
      "model_module_version": "1.5.0",
      "model_name": "DescriptionStyleModel",
      "state": {
       "_model_module": "@jupyter-widgets/controls",
       "_model_module_version": "1.5.0",
       "_model_name": "DescriptionStyleModel",
       "_view_count": null,
       "_view_module": "@jupyter-widgets/base",
       "_view_module_version": "1.2.0",
       "_view_name": "StyleView",
       "description_width": ""
      }
     },
     "99118d05541c4b52a2c9e150d712d478": {
      "model_module": "@jupyter-widgets/controls",
      "model_module_version": "1.5.0",
      "model_name": "HTMLModel",
      "state": {
       "_dom_classes": [],
       "_model_module": "@jupyter-widgets/controls",
       "_model_module_version": "1.5.0",
       "_model_name": "HTMLModel",
       "_view_count": null,
       "_view_module": "@jupyter-widgets/controls",
       "_view_module_version": "1.5.0",
       "_view_name": "HTMLView",
       "description": "",
       "description_tooltip": null,
       "layout": "IPY_MODEL_d93e5cbcc2a4432a84feaaa0068f2e6f",
       "placeholder": "​",
       "style": "IPY_MODEL_947ba27a56c04aa5a1b6bbe59cfefc62",
       "value": " 3/3 [00:00&lt;00:00, 248.39it/s]"
      }
     },
     "ab18b4a264ce4305b60f5176d97ae2ff": {
      "model_module": "@jupyter-widgets/controls",
      "model_module_version": "1.5.0",
      "model_name": "DescriptionStyleModel",
      "state": {
       "_model_module": "@jupyter-widgets/controls",
       "_model_module_version": "1.5.0",
       "_model_name": "DescriptionStyleModel",
       "_view_count": null,
       "_view_module": "@jupyter-widgets/base",
       "_view_module_version": "1.2.0",
       "_view_name": "StyleView",
       "description_width": ""
      }
     },
     "b70b322e3620466facca5cb9285b2adc": {
      "model_module": "@jupyter-widgets/controls",
      "model_module_version": "1.5.0",
      "model_name": "HTMLModel",
      "state": {
       "_dom_classes": [],
       "_model_module": "@jupyter-widgets/controls",
       "_model_module_version": "1.5.0",
       "_model_name": "HTMLModel",
       "_view_count": null,
       "_view_module": "@jupyter-widgets/controls",
       "_view_module_version": "1.5.0",
       "_view_name": "HTMLView",
       "description": "",
       "description_tooltip": null,
       "layout": "IPY_MODEL_174da9d0028d4379971b2fa8f88cfa6d",
       "placeholder": "​",
       "style": "IPY_MODEL_ab18b4a264ce4305b60f5176d97ae2ff",
       "value": "100%"
      }
     },
     "b9f205383424432fbaf2b1a4d1c43898": {
      "model_module": "@jupyter-widgets/controls",
      "model_module_version": "1.5.0",
      "model_name": "ProgressStyleModel",
      "state": {
       "_model_module": "@jupyter-widgets/controls",
       "_model_module_version": "1.5.0",
       "_model_name": "ProgressStyleModel",
       "_view_count": null,
       "_view_module": "@jupyter-widgets/base",
       "_view_module_version": "1.2.0",
       "_view_name": "StyleView",
       "bar_color": null,
       "description_width": ""
      }
     },
     "bb2f64d4764f4d54a35c2e83e6f5c4b4": {
      "model_module": "@jupyter-widgets/controls",
      "model_module_version": "1.5.0",
      "model_name": "DescriptionStyleModel",
      "state": {
       "_model_module": "@jupyter-widgets/controls",
       "_model_module_version": "1.5.0",
       "_model_name": "DescriptionStyleModel",
       "_view_count": null,
       "_view_module": "@jupyter-widgets/base",
       "_view_module_version": "1.2.0",
       "_view_name": "StyleView",
       "description_width": ""
      }
     },
     "bcf48f3171bd48888fb22080f835f50e": {
      "model_module": "@jupyter-widgets/base",
      "model_module_version": "1.2.0",
      "model_name": "LayoutModel",
      "state": {
       "_model_module": "@jupyter-widgets/base",
       "_model_module_version": "1.2.0",
       "_model_name": "LayoutModel",
       "_view_count": null,
       "_view_module": "@jupyter-widgets/base",
       "_view_module_version": "1.2.0",
       "_view_name": "LayoutView",
       "align_content": null,
       "align_items": null,
       "align_self": null,
       "border": null,
       "bottom": null,
       "display": null,
       "flex": null,
       "flex_flow": null,
       "grid_area": null,
       "grid_auto_columns": null,
       "grid_auto_flow": null,
       "grid_auto_rows": null,
       "grid_column": null,
       "grid_gap": null,
       "grid_row": null,
       "grid_template_areas": null,
       "grid_template_columns": null,
       "grid_template_rows": null,
       "height": null,
       "justify_content": null,
       "justify_items": null,
       "left": null,
       "margin": null,
       "max_height": null,
       "max_width": null,
       "min_height": null,
       "min_width": null,
       "object_fit": null,
       "object_position": null,
       "order": null,
       "overflow": null,
       "overflow_x": null,
       "overflow_y": null,
       "padding": null,
       "right": null,
       "top": null,
       "visibility": null,
       "width": null
      }
     },
     "d5bd5e58b2ae48f78d51317ec4801fad": {
      "model_module": "@jupyter-widgets/controls",
      "model_module_version": "1.5.0",
      "model_name": "ProgressStyleModel",
      "state": {
       "_model_module": "@jupyter-widgets/controls",
       "_model_module_version": "1.5.0",
       "_model_name": "ProgressStyleModel",
       "_view_count": null,
       "_view_module": "@jupyter-widgets/base",
       "_view_module_version": "1.2.0",
       "_view_name": "StyleView",
       "bar_color": null,
       "description_width": ""
      }
     },
     "d93e5cbcc2a4432a84feaaa0068f2e6f": {
      "model_module": "@jupyter-widgets/base",
      "model_module_version": "1.2.0",
      "model_name": "LayoutModel",
      "state": {
       "_model_module": "@jupyter-widgets/base",
       "_model_module_version": "1.2.0",
       "_model_name": "LayoutModel",
       "_view_count": null,
       "_view_module": "@jupyter-widgets/base",
       "_view_module_version": "1.2.0",
       "_view_name": "LayoutView",
       "align_content": null,
       "align_items": null,
       "align_self": null,
       "border": null,
       "bottom": null,
       "display": null,
       "flex": null,
       "flex_flow": null,
       "grid_area": null,
       "grid_auto_columns": null,
       "grid_auto_flow": null,
       "grid_auto_rows": null,
       "grid_column": null,
       "grid_gap": null,
       "grid_row": null,
       "grid_template_areas": null,
       "grid_template_columns": null,
       "grid_template_rows": null,
       "height": null,
       "justify_content": null,
       "justify_items": null,
       "left": null,
       "margin": null,
       "max_height": null,
       "max_width": null,
       "min_height": null,
       "min_width": null,
       "object_fit": null,
       "object_position": null,
       "order": null,
       "overflow": null,
       "overflow_x": null,
       "overflow_y": null,
       "padding": null,
       "right": null,
       "top": null,
       "visibility": null,
       "width": null
      }
     },
     "da51f53c64324214bce7d2300336e90c": {
      "model_module": "@jupyter-widgets/base",
      "model_module_version": "1.2.0",
      "model_name": "LayoutModel",
      "state": {
       "_model_module": "@jupyter-widgets/base",
       "_model_module_version": "1.2.0",
       "_model_name": "LayoutModel",
       "_view_count": null,
       "_view_module": "@jupyter-widgets/base",
       "_view_module_version": "1.2.0",
       "_view_name": "LayoutView",
       "align_content": null,
       "align_items": null,
       "align_self": null,
       "border": null,
       "bottom": null,
       "display": null,
       "flex": null,
       "flex_flow": null,
       "grid_area": null,
       "grid_auto_columns": null,
       "grid_auto_flow": null,
       "grid_auto_rows": null,
       "grid_column": null,
       "grid_gap": null,
       "grid_row": null,
       "grid_template_areas": null,
       "grid_template_columns": null,
       "grid_template_rows": null,
       "height": null,
       "justify_content": null,
       "justify_items": null,
       "left": null,
       "margin": null,
       "max_height": null,
       "max_width": null,
       "min_height": null,
       "min_width": null,
       "object_fit": null,
       "object_position": null,
       "order": null,
       "overflow": null,
       "overflow_x": null,
       "overflow_y": null,
       "padding": null,
       "right": null,
       "top": null,
       "visibility": null,
       "width": null
      }
     },
     "f53b85da01d34223ab5a64c3fc82f6b5": {
      "model_module": "@jupyter-widgets/controls",
      "model_module_version": "1.5.0",
      "model_name": "HTMLModel",
      "state": {
       "_dom_classes": [],
       "_model_module": "@jupyter-widgets/controls",
       "_model_module_version": "1.5.0",
       "_model_name": "HTMLModel",
       "_view_count": null,
       "_view_module": "@jupyter-widgets/controls",
       "_view_module_version": "1.5.0",
       "_view_name": "HTMLView",
       "description": "",
       "description_tooltip": null,
       "layout": "IPY_MODEL_830360f1ccc04ec6825ebde8f7e0c8b6",
       "placeholder": "​",
       "style": "IPY_MODEL_bb2f64d4764f4d54a35c2e83e6f5c4b4",
       "value": "100%"
      }
     }
    },
    "version_major": 2,
    "version_minor": 0
   }
  }
 },
 "nbformat": 4,
 "nbformat_minor": 5
}
